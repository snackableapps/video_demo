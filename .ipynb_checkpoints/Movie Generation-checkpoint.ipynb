{
 "cells": [
  {
   "cell_type": "code",
   "execution_count": 28,
   "metadata": {},
   "outputs": [],
   "source": [
    "import moviepy\n",
    "from functional import seq\n",
    "import requests\n",
    "import json"
   ]
  },
  {
   "cell_type": "code",
   "execution_count": 35,
   "metadata": {},
   "outputs": [
    {
     "name": "stdout",
     "output_type": "stream",
     "text": [
      "\n",
      "\n",
      "What kinds of Pocky are you?\n",
      "[{'blockName': 'snackable/block-snackable-quiz', 'attrs': {'question': 'What time do you wake up in the morning?', 'choices': [{'id': 'id_1554111947102', 'name': 'Pizza'}, {'id': 'id_1554111979658', 'name': 'Sushi'}, {'id': 'id_1554177714615', 'name': 'Pizza'}, {'id': 'id_1554180269249', 'name': 'Noon'}, {'id': 'id_1554180287494', 'name': '5 AM baby'}, {'id': 'id_1554180288600', 'name': 'Sleep'}, {'id': 'topic', 'name': '5 am'}, {'id': 'id_1554180911806', 'name': 'Noon'}, {'id': 'id_1554180913706', 'name': 'Sleep?'}]}, 'innerBlocks': [], 'innerHTML': '', 'innerContent': []}, {'blockName': 'snackable/block-snackable-quiz', 'attrs': {'question': 'What kind of burger do you like?', 'choices': [{'id': 'id_1554111947102', 'name': '12e2'}, {'id': 'id_1554111979658', 'name': '2e12e12e'}, {'id': 'id_1554177714615', 'name': '1111'}, {'id': 'id_1554180269249', 'name': 'In-n-out'}, {'id': 'id_1554180287494', 'name': '5 Guys'}, {'id': 'id_1554180288600', 'name': 'MVP'}, {'id': 'topic', 'name': 'in-n-out'}, {'id': 'id_1554180911806', 'name': '5 Guys'}, {'id': 'id_1554180913706', 'name': 'MVP'}]}, 'innerBlocks': [], 'innerHTML': '', 'innerContent': []}, {'blockName': 'snackable/block-snackable-quiz-results', 'attrs': [], 'innerBlocks': [], 'innerHTML': '', 'innerContent': []}]\n"
     ]
    }
   ],
   "source": [
    "URL = \"http://localhost:8000/wp-json/wp/v2/snackable_quiz/69\"\n",
    "\n",
    "\n",
    "data = requests.get(URL).json()\n",
    "topics = {}\n",
    "for (k,v) in json.loads(data['meta']['snackable_quiz_topics'])['topics'].items():\n",
    "    topics[k] = v\n",
    "\n",
    "print()\n",
    "print()\n",
    "blocks = [b for b in data['blocks'] if b['blockName'] is not None and 'snackable' in b['blockName']]\n",
    "title = data['title']['rendered']\n",
    "print(title)\n",
    "print(blocks)"
   ]
  },
  {
   "cell_type": "code",
   "execution_count": 53,
   "metadata": {},
   "outputs": [
    {
     "name": "stdout",
     "output_type": "stream",
     "text": [
      "What time do you wake up in the morning?\n",
      "\t[ ] 5 am (Vanilla Pocky)\n",
      "\t[ ] Noon (Chocolate Pocky)\n",
      "\t[ ] Sleep? (Matcha Pocky)\n",
      "What kind of burger do you like?\n",
      "\t[ ] in-n-out (Vanilla Pocky)\n",
      "\t[ ] 5 Guys (Chocolate Pocky)\n",
      "\t[ ] MVP (Matcha Pocky)\n"
     ]
    }
   ],
   "source": [
    "for b in [b for b in blocks if b['blockName'] == 'snackable/block-snackable-quiz']:\n",
    "    question = b['attrs']['question']\n",
    "    choices = [c for c in b['attrs']['choices'] if c['id'] in topics]\n",
    "    print(question)\n",
    "    for c in choices:\n",
    "        print(\"\\t[ ] {} ({})\".format(c['name'], topics[c['id']]['topic']))"
   ]
  },
  {
   "cell_type": "code",
   "execution_count": 1,
   "metadata": {},
   "outputs": [
    {
     "name": "stdout",
     "output_type": "stream",
     "text": [
      "[MoviePy] >>>> Building video cat_theory.mp4\n",
      "[MoviePy] Writing video cat_theory.mp4\n"
     ]
    },
    {
     "name": "stderr",
     "output_type": "stream",
     "text": [
      " 99%|██████████████████████████████████████████████████████████████████████████████▎| 120/121 [00:00<00:00, 156.14it/s]\n"
     ]
    },
    {
     "name": "stdout",
     "output_type": "stream",
     "text": [
      "[MoviePy] Done.\n",
      "[MoviePy] >>>> Video ready: cat_theory.mp4 \n",
      "\n"
     ]
    },
    {
     "data": {
      "text/html": [
       "\n",
       "    <video width=\"300\" height=\"300\" style=\"margin:auto auto;\" autoplay loop=\"true\" >\n",
       "      <source src=\"cat_theory.mp4\" type=\"video/mp4\">\n",
       "    </video>\n",
       "    "
      ],
      "text/plain": [
       "<IPython.core.display.HTML object>"
      ]
     },
     "execution_count": 1,
     "metadata": {},
     "output_type": "execute_result"
    }
   ],
   "source": [
    "from IPython.display import HTML\n",
    "from moviepy.editor import *\n",
    "\n",
    "def display_video(url, width=500, height=500):\n",
    "    return HTML(\"\"\"\n",
    "    <video width=\"%d\" height=\"%d\" style=\"margin:auto auto;\" autoplay loop=\"true\" >\n",
    "      <source src=\"%s\" type=\"video/mp4\">\n",
    "    </video>\n",
    "    \"\"\" % (width, height, url))\n",
    "\n",
    "def make_caption(text, duration):\n",
    "    return TextClip(text,\n",
    "                    color='white', font=\"Impact\", stroke_color='black', stroke_width=1,\n",
    "                    fontsize=40).set_duration(duration)\n",
    "\n",
    "MAX_LENGTH = 5 # Seconds\n",
    "screensize = (500,500)\n",
    "\n",
    "reaction_gifs = ImageClip(\"bg.png\", duration=5)\n",
    "caption = make_caption(\"hello\", 5)\n",
    "\n",
    "\n",
    "CompositeVideoClip( [reaction_gifs, caption] ).write_videofile(\"cat_theory.mp4\", fps=24)\n",
    "\n",
    "display_video(\"cat_theory.mp4\", 300, 300)\n"
   ]
  },
  {
   "cell_type": "code",
   "execution_count": null,
   "metadata": {},
   "outputs": [],
   "source": []
  }
 ],
 "metadata": {
  "kernelspec": {
   "display_name": "Python 3",
   "language": "python",
   "name": "python3"
  },
  "language_info": {
   "codemirror_mode": {
    "name": "ipython",
    "version": 3
   },
   "file_extension": ".py",
   "mimetype": "text/x-python",
   "name": "python",
   "nbconvert_exporter": "python",
   "pygments_lexer": "ipython3",
   "version": "3.7.3"
  }
 },
 "nbformat": 4,
 "nbformat_minor": 2
}
